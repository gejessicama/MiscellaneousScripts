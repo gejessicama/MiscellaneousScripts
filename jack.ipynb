{
 "cells": [
  {
   "cell_type": "code",
   "execution_count": null,
   "metadata": {
    "collapsed": true
   },
   "outputs": [],
   "source": [
    "# Author: Jessica Ma\n",
    "# Date: April 9, 2018\n",
    "# Purpose: to jackknife with a single entry \n",
    "# Has a single query rather than iterating through all the files"
   ]
  },
  {
   "cell_type": "code",
   "execution_count": 39,
   "metadata": {},
   "outputs": [
    {
     "name": "stdout",
     "output_type": "stream",
     "text": [
      "File name: 'PHYT00142-p40q40'\n"
     ]
    }
   ],
   "source": [
    "# imports and getting the target protein\n",
    "import subprocess\n",
    "from subprocess import PIPE\n",
    "import math\n",
    "from __future__ import division\n",
    "\n",
    "prot = input(\"File name: \")  \n",
    "params = prot[-7:]"
   ]
  },
  {
   "cell_type": "code",
   "execution_count": 40,
   "metadata": {
    "collapsed": true
   },
   "outputs": [],
   "source": [
    "# function to write to csv\n",
    "def print_csv(name, param, ta, na, cs, inc, orig):\n",
    "    file = open('resultsf1.csv', 'a+')\n",
    "    precision = inc/(inc + na)\n",
    "    recall = inc/orig\n",
    "    f1 = (2*precision*recall)/(precision + recall)\n",
    "    ppos = param[2:4]\n",
    "    qcovs = param[5:7]\n",
    "    file.write(\",\".join([name, ppos, qcovs, str(ta), str(na), str(cs), str(inc), str(f1), str(orig)]) + '\\n')"
   ]
  },
  {
   "cell_type": "code",
   "execution_count": 41,
   "metadata": {
    "collapsed": true
   },
   "outputs": [],
   "source": [
    "# intialize some constants\n",
    "AMP = '/projects/spruceup/scratch/psitchensis/Q903/annotation/amp/'\n",
    "NAMES = '{0}round2/temp_files/tmp_files{1}/{2}'.format(AMP, params, prot)\n",
    "TESTDB = '{0}sequences/AMP_test_set-8Mar18.fa'.format(AMP)\n",
    "DB = '{0}alignment/MSAs/db.fa'.format(AMP)"
   ]
  },
  {
   "cell_type": "code",
   "execution_count": 42,
   "metadata": {},
   "outputs": [],
   "source": [
    "# remove (at least) 10% of the constructing set\n",
    "constr = int(subprocess.check_output(\"wc -l < \" + NAMES, shell=True))\n",
    "rmv = int(math.ceil(0.1*constr))"
   ]
  },
  {
   "cell_type": "code",
   "execution_count": 43,
   "metadata": {
    "scrolled": true
   },
   "outputs": [],
   "source": [
    "# make all subsets w/o replacement\n",
    "\n",
    "for i in range(1, constr - rmv + 1): \n",
    "    remover = 'sed \"{0}d\" {1} |'.format(i, NAMES)\n",
    "    sedder =' sed \"{0}d\" |'.format(i)\n",
    "    line = remover + sedder * (rmv-1) + ' seqtk subseq {0} \"-\" | muscle -out thing.msa'.format(DB)\n",
    "    \n",
    "    subprocess.call(line, shell=True)\n",
    "    subprocess.call(\"hmmbuild thing.hmm thing.msa\", shell=True)\n",
    "    subprocess.call(\"hmmsearch -E 1e-5 --noali --notextw --tblout thingsearch thing.hmm \" + TESTDB, shell=True)\n",
    "    \n",
    "    res = open(\"thingsearch\").read()\n",
    "\n",
    "    # get key values\n",
    "    tot_amp = res.count(';AMP')\n",
    "    non_amp = res.count(';non_AMP')\n",
    "    hmmRes = set()\n",
    "    cons = set()\n",
    "    with open(\"thingsearch\", \"r\") as infile:\n",
    "        for line in infile:\n",
    "            if line[0] != \"#\":\n",
    "                rec = line.strip(\"\\n\").split(\"\\t\")[0]\n",
    "                seqid = rec.split(\";\")[0]\n",
    "                hmmRes.add(seqid)\n",
    "                \n",
    "    with open(\"temp_files/tmp_files-p40q40/\" + prot, \"r\") as outfile:\n",
    "        for line in outfile:\n",
    "            cons.add(line.strip(\"\\n\"))\n",
    "            \n",
    "    incl = len(hmmRes.intersection(cons))\n",
    "    \n",
    "    # call instance of writing to csv\n",
    "    print_csv(prot, params, tot_amp, non_amp, constr-rmv , incl, constr)"
   ]
  },
  {
   "cell_type": "code",
   "execution_count": null,
   "metadata": {
    "collapsed": true
   },
   "outputs": [],
   "source": []
  }
 ],
 "metadata": {
  "kernelspec": {
   "display_name": "Python 2",
   "language": "python",
   "name": "python2"
  },
  "language_info": {
   "codemirror_mode": {
    "name": "ipython",
    "version": 2
   },
   "file_extension": ".py",
   "mimetype": "text/x-python",
   "name": "python",
   "nbconvert_exporter": "python",
   "pygments_lexer": "ipython2",
   "version": "2.7.14"
  }
 },
 "nbformat": 4,
 "nbformat_minor": 2
}
